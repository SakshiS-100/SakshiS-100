{
 "cells": [
  {
   "cell_type": "code",
   "execution_count": 2,
   "id": "8ac6d361",
   "metadata": {},
   "outputs": [],
   "source": [
    "import requests\n",
    "from bs4 import BeautifulSoup\n",
    "import nltk\n",
    "from nltk.corpus import stopwords\n",
    "from nltk.tokenize import word_tokenize\n",
    "from nltk.probability import FreqDist\n",
    "from nltk.sentiment import SentimentIntensityAnalyzer\n",
    "import matplotlib.pyplot as plt\n",
    "import string\n",
    "import re\n",
    "from wordcloud import WordCloud"
   ]
  },
  {
   "cell_type": "code",
   "execution_count": 3,
   "id": "1bae2ff9",
   "metadata": {},
   "outputs": [
    {
     "name": "stderr",
     "output_type": "stream",
     "text": [
      "[nltk_data] Downloading package vader_lexicon to C:\\Users\\SAKSHI\n",
      "[nltk_data]     SHARMA\\AppData\\Roaming\\nltk_data...\n",
      "[nltk_data] Downloading package punkt to C:\\Users\\SAKSHI\n",
      "[nltk_data]     SHARMA\\AppData\\Roaming\\nltk_data...\n",
      "[nltk_data]   Unzipping tokenizers\\punkt.zip.\n",
      "[nltk_data] Downloading package stopwords to C:\\Users\\SAKSHI\n",
      "[nltk_data]     SHARMA\\AppData\\Roaming\\nltk_data...\n",
      "[nltk_data]   Unzipping corpora\\stopwords.zip.\n"
     ]
    },
    {
     "data": {
      "text/plain": [
       "True"
      ]
     },
     "execution_count": 3,
     "metadata": {},
     "output_type": "execute_result"
    }
   ],
   "source": [
    "nltk.download('vader_lexicon')\n",
    "nltk.download('punkt')\n",
    "nltk.download('stopwords')\n"
   ]
  },
  {
   "cell_type": "code",
   "execution_count": 71,
   "id": "f5961e20",
   "metadata": {},
   "outputs": [],
   "source": [
    "url = 'https://www.indiewire.com/criticism/movies/animal-review-sandeep-reddy-vanga-1234931508/'\n",
    "response = requests.get(url)"
   ]
  },
  {
   "cell_type": "code",
   "execution_count": 72,
   "id": "d26129e4",
   "metadata": {},
   "outputs": [],
   "source": [
    "if response.status_code == 200:\n",
    "    # Parse the HTML content using BeautifulSoup\n",
    "    soup = BeautifulSoup(response.text, 'html.parser')"
   ]
  },
  {
   "cell_type": "code",
   "execution_count": 73,
   "id": "561a3115",
   "metadata": {},
   "outputs": [],
   "source": [
    "text_elements = soup.find_all(['p', 'h1', 'h2', 'h3', 'h4', 'h5', 'h6'])\n"
   ]
  },
  {
   "cell_type": "code",
   "execution_count": 74,
   "id": "edfe535b",
   "metadata": {},
   "outputs": [
    {
     "name": "stdout",
     "output_type": "stream",
     "text": [
      "By providing your information, you agree to our Terms of Use and our Privacy Policy.\n",
      "\t\t\t\tWe use vendors that may also process your information to help provide our services. This site is protected by reCAPTCHA Enterprise and the Google Privacy Policy and Terms of Service apply. ‘Animal’ Review: Men Will Literally Make a 202-Minute Movie Instead of Going to Therapy Proma Khosla A little over halfway through Sandeep Reddy Vanga’s “Animal,” the main character and his allies attend church. He’s just killed 300 people, and they think he’d benefit from a spiritual cleanse, which he refuses.  After watching this film, I needed one too.  It’s not that “Animal” is particularly bad, misguided, or offensive — though it is periodically all of those things — but that it is an overall baffling cinematic experience. It is a movie with a jarring beginning and no discernible end. It is a movie where two people pilot a private plane and then have sex in the cabin while it flies itself. It is a movie touting physical violence but dealing mostly in emotional warfare. It is a movie that started with me taking two Tylenol, and ended with me taking two more. Co-written by Pranay Reddy Vanga and Saurabh Gupta, “Animal” stars Ranbir Kapoor as Ranvijay Singh, the son of wealthy steel tycoon Balbir Singh (Anil Kapoor), whom he idolizes to the point of concern. After Balbir is injured in an assassination attempt, Ranvijay shifts his entire focus (including a wife and children who he moves back to India from the U.S.) to protecting his father, annihilating anyone perceived as a threat and destroying most of his world and relationships in the process.\n",
      "\n",
      " \n",
      "\n",
      "\n",
      "\n",
      "\n",
      "\n",
      "\n",
      "\n",
      "\n",
      "Related Stories Steven Spielberg Credits John Williams During Sony Pictures’ Dedication: ‘My Movies Would Not Be the Same Without You’ A24 Releases Surprise Doc ‘My Mercury’ on Prime Video, from Joelle Chesselet and Oscar-Winning ‘My Octopus Teacher’ Co-Director Pippa Ehrlich  The fundamental problem with “Animal,” if we’re picking just one, is that Ranvijay and Balbir’s relationship is inexcusably underdeveloped. For a film whose entire marketing has boiled down to daddy issues and muddled themes to some version of “hurt people hurt people,” this should be a critical narrative focus. Instead, the film reads like it was built around its title, or its bloodshed, or Ranvijay’s roiling rage, with the emotional motivation behind all of that relegated to insignificance. Without it, the film is a nonstop visual and auditory assault, a trainwreck steered by erratic editing, where scenes cut off at random or feel like they were shot on film, sliced up, and pieced back together (the highly-stylized first murder at the end of act 1 is actually very fun, with a rotating overhead shot and thundering techno music).\n",
      "\n",
      " At the eye of this storm is Kapoor, trembling through what is allegedly the role of his career if one ignores the cost of artistic integrity. Certainly “Animal” better suits his talents than the dozens of romantic leads before it, the deadened anguish in his eyes telling Vijay’s story much more effectively than Gupta and the Vangas’ script. Kapoor has depicted characters with insecurities or a short fuse, and “Animal” dials those notes up to 1000. Anil Kapoor offers a comforting presence during his sporadic appearances, but is a good enough actor with a bad enough script that Balbir comes off as entirely reasonable, a formerly distant father now simply begging his son to put down the bloody axe. Rashmika Mandanna gives a commendable effort as Vijay’s wife Geetanjali, but only gets one scene to really showcase her talent, albeit one that seems to clock in at 20 or so pages. She fares slightly better than Kiara Advani in 2019’s “Kabir Singh,” but that depends on whether or not “Animal” delivers on the threat of a sequel.\n",
      "\n",
      " \n",
      "\n",
      "\n",
      "\n",
      "\n",
      "\n",
      "\n",
      "\n",
      "\n",
      " The Punjabi actors playing Vijay’s cousins-slash-bodyguards are genuinely excellent, and the scenes in their village are easily the best in the film. My mileage varied on the portrayal of Sikhs, but that was before I saw the portrayal of Muslims, and all of that before I heard the “Scottish” accents — to say nothing of the persistently two-dimensional, reductive roles for women (Vijay’s sisters are mostly sidelined, ostensibly because they want nothing to do with him, the radicalized Kendall Roy of the family). “Animal” is one of those films that thinks it’s offending no one by offending everyone, meanwhile allowing its belligerent antihero to wreak havoc for much of that inhumane runtime. The film wears its outdated machismo on its sleeve, with an early monologue about alpha males, the constant threat of physical violence, and way too much screen time and dialogue devoted to Vijay’s penis. At one point, he tells his wife “Think like a man, like you’ve got biceps like I do.” You wouldn’t believe what happens at the end of a fight scene where he threatens to smack her and she leaves the conversation smiling. At one point there’s a reference to menstruation which has no basis in biological reality.  Afterward, as I paced my apartment while stress-eating a $4 cookie, whistling the haunting melody of “Papa Meri Jaan” and wondering if Tylenol is just a placebo, I put on Atlee’s “Jawan” for background viewing to remind myself that melodramatic, violent movies can also be fun when they want to. But even with “Animal”s various delusions of grandeur, one thing the film definitely doesn’t want to be is fun. It wants to be edgy, uncomfortable, and shocking for shock’s sake. It’s defending itself against questions no one asked and statements no one made, instead of effectively examining topics that clearly vex Vanga. After criticism for the glorified abuse and toxic masculinity in “Kabir Singh,” Vanga could have come back after four years and 202 minutes with something to actually say, but “Animal” is shouting at the top of its lungs with no message in its garbled words.\n",
      "\n",
      " \n",
      "\n",
      "\n",
      "\n",
      "\n",
      "\n",
      "\n",
      "\n",
      "\n",
      " Grade: C- “Animal” is now playing in theaters. By providing your information, you agree to our Terms of Use and our Privacy Policy.\n",
      "\t\t\t\tWe use vendors that may also process your information to help provide our services. This site is protected by reCAPTCHA Enterprise and the Google Privacy Policy and Terms of Service apply. Most Popular You may also like By providing your information, you agree to our Terms of Use and our Privacy Policy.\n",
      "\t\t\t\tWe use vendors that may also process your information to help provide our services. This site is protected by reCAPTCHA Enterprise and the Google Privacy Policy and Terms of Service apply.\n"
     ]
    }
   ],
   "source": [
    "extracted_text = ' '.join(element.get_text() for element in text_elements)\n",
    "print( extracted_text)"
   ]
  },
  {
   "cell_type": "code",
   "execution_count": 75,
   "id": "c52faf3b",
   "metadata": {},
   "outputs": [],
   "source": [
    "def clean_text(text):\n",
    "    text = text.lower()  # Convert to lowercase\n",
    "    text = re.sub(r'\\d+', '', text)  # Remove numbers\n",
    "    text = text.translate(str.maketrans(\"\", \"\", string.punctuation))  # Remove punctuation\n",
    "    text = ' '.join([word for word in text.split() if word not in stopwords.words('english')])  # Remove stopwords\n",
    "    return text"
   ]
  },
  {
   "cell_type": "code",
   "execution_count": 76,
   "id": "b9fa1b37",
   "metadata": {},
   "outputs": [],
   "source": [
    "cleaned_text = clean_text(extracted_text)"
   ]
  },
  {
   "cell_type": "code",
   "execution_count": 77,
   "id": "e9f3ae67",
   "metadata": {},
   "outputs": [],
   "source": [
    "tokens = word_tokenize(cleaned_text)"
   ]
  },
  {
   "cell_type": "code",
   "execution_count": 78,
   "id": "21fc9c68",
   "metadata": {},
   "outputs": [],
   "source": [
    "freq_dist = FreqDist(tokens)"
   ]
  },
  {
   "cell_type": "code",
   "execution_count": 79,
   "id": "22c824f7",
   "metadata": {},
   "outputs": [
    {
     "data": {
      "image/png": "[encoded data removed]",
      "text/plain": [
       "<Figure size 720x360 with 1 Axes>"
      ]
     },
     "metadata": {
      "needs_background": "light"
     },
     "output_type": "display_data"
    },
    {
     "data": {
      "image/png": "[encoded data removed]",
      "text/plain": [
       "<Figure size 432x288 with 1 Axes>"
      ]
     },
     "metadata": {
      "needs_background": "light"
     },
     "output_type": "display_data"
    }
   ],
   "source": [
    "plt.figure(figsize=(10, 5))\n",
    "freq_dist.plot(20, cumulative=False)\n",
    "plt.title('Top 20 Words in the Text')\n",
    "plt.show()\n"
   ]
  },
  {
   "cell_type": "code",
   "execution_count": 80,
   "id": "c7d9de69",
   "metadata": {},
   "outputs": [
    {
     "name": "stdout",
     "output_type": "stream",
     "text": [
      "\n",
      "Sentiment Analysis:\n",
      "{'neg': 0.13, 'neu': 0.736, 'pos': 0.134, 'compound': -0.6911}\n"
     ]
    }
   ],
   "source": [
    "sia = SentimentIntensityAnalyzer()\n",
    "sentiment_score = sia.polarity_scores(extracted_text)\n",
    "\n",
    "print(\"\\nSentiment Analysis:\")\n",
    "print(sentiment_score)"
   ]
  },
  {
   "cell_type": "code",
   "execution_count": null,
   "id": "f3693005",
   "metadata": {},
   "outputs": [],
   "source": []
  }
 ],
 "metadata": {
  "kernelspec": {
   "display_name": "Python 3 (ipykernel)",
   "language": "python",
   "name": "python3"
  },
  "language_info": {
   "codemirror_mode": {
    "name": "ipython",
    "version": 3
   },
   "file_extension": ".py",
   "mimetype": "text/x-python",
   "name": "python",
   "nbconvert_exporter": "python",
   "pygments_lexer": "ipython3",
   "version": "3.9.12"
  }
 },
 "nbformat": 4,
 "nbformat_minor": 5
}
